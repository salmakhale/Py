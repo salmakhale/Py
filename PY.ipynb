{
 "cells": [
  {
   "cell_type": "code",
   "execution_count": 1,
   "id": "c7ad9a3d",
   "metadata": {},
   "outputs": [
    {
     "name": "stdout",
     "output_type": "stream",
     "text": [
      "Enter a sequence of numbers separated by spaces: 4 7 5 4 1\n",
      "There are duplicate numbers.\n"
     ]
    }
   ],
   "source": [
    "# Write a Python function that takes a sequence of numbers and determines whether all the numbers are different from each other.\n",
    "\n",
    "def all_unique(numbers):\n",
    "    return len(numbers) == len(set(numbers))\n",
    "\n",
    "# Get user input\n",
    "input_string = input(\"Enter a sequence of numbers separated by spaces: \")\n",
    "numbers = list(map(int, input_string.split()))\n",
    "\n",
    "# Check if all numbers are unique\n",
    "if all_unique(numbers):\n",
    "    print(\"All numbers are unique.\")\n",
    "else:\n",
    "    print(\"There are duplicate numbers.\")\n"
   ]
  },
  {
   "cell_type": "code",
   "execution_count": 2,
   "id": "e42d1827",
   "metadata": {},
   "outputs": [
    {
     "name": "stdout",
     "output_type": "stream",
     "text": [
      "Uppercase letters: 3\n",
      "Lowercase letters: 12\n"
     ]
    }
   ],
   "source": [
    "# Write a Python function that accepts a string and counts the number of upper and lower case letters.\n",
    "\n",
    "\n",
    "\n",
    "def count_upper_lower(s):\n",
    "    upper_count = 0\n",
    "    lower_count = 0\n",
    "    \n",
    "    for char in s:\n",
    "        if char.isupper():\n",
    "            upper_count += 1\n",
    "        elif char.islower():\n",
    "            lower_count += 1\n",
    "    \n",
    "    return upper_count, lower_count\n",
    "\n",
    "# Sample usage\n",
    "sample_string = 'The quick Brow Fox'\n",
    "upper, lower = count_upper_lower(sample_string)\n",
    "print(f\"Uppercase letters: {upper}\")\n",
    "print(f\"Lowercase letters: {lower}\")\n"
   ]
  },
  {
   "cell_type": "code",
   "execution_count": 3,
   "id": "3262aea7",
   "metadata": {},
   "outputs": [
    {
     "name": "stdout",
     "output_type": "stream",
     "text": [
      "[1505, 1540, 1575, 1610, 1645, 1680, 1715, 1750, 1785, 1820, 1855, 1890, 1925, 1960, 1995, 2030, 2065, 2100, 2135, 2170, 2205, 2240, 2275, 2310, 2345, 2380, 2415, 2450, 2485, 2520, 2555, 2590, 2625, 2660, 2695]\n"
     ]
    }
   ],
   "source": [
    "# Write a Python program to find those numbers which are divisible by 7 and multiples of 5, between 1500 and 2700 (both included).\n",
    "\n",
    "\n",
    "\n",
    "result = []\n",
    "for num in range(1500, 2701):\n",
    "    if num % 7 == 0 and num % 5 == 0:\n",
    "        result.append(num)\n",
    "\n",
    "print(result)\n"
   ]
  },
  {
   "cell_type": "code",
   "execution_count": 4,
   "id": "30d81ed0",
   "metadata": {},
   "outputs": [
    {
     "name": "stdout",
     "output_type": "stream",
     "text": [
      "The hypotenuse is: 5.0\n",
      "The other side is: 12.0\n"
     ]
    }
   ],
   "source": [
    "# Write a Python program to get the third side of a right-angled triangle from two given sides.\n",
    "\n",
    "\n",
    "import math\n",
    "\n",
    "a = 3 \n",
    "b = 4\n",
    " \n",
    "\n",
    "hypotenuse = math.sqrt(a**2 + b**2)\n",
    "print(f\"The hypotenuse is: {hypotenuse}\")\n",
    "\n",
    "hypotenuse = 13\n",
    "side = 5\n",
    "other_side = math.sqrt(hypotenuse**2 - side**2)\n",
    "print(f\"The other side is: {other_side}\")\n"
   ]
  }
 ],
 "metadata": {
  "kernelspec": {
   "display_name": "Python 3",
   "language": "python",
   "name": "python3"
  },
  "language_info": {
   "codemirror_mode": {
    "name": "ipython",
    "version": 3
   },
   "file_extension": ".py",
   "mimetype": "text/x-python",
   "name": "python",
   "nbconvert_exporter": "python",
   "pygments_lexer": "ipython3",
   "version": "3.8.8"
  }
 },
 "nbformat": 4,
 "nbformat_minor": 5
}
